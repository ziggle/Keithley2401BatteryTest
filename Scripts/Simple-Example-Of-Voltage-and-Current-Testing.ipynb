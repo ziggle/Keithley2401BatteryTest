{
 "cells": [
  {
   "cell_type": "markdown",
   "metadata": {},
   "source": [
    "# Keithley 2401A Test Examples\n",
    "\n",
    "My load is just a 1.8KΩ resistor."
   ]
  },
  {
   "cell_type": "markdown",
   "metadata": {},
   "source": [
    "# Setup the Interface"
   ]
  },
  {
   "cell_type": "code",
   "execution_count": 1,
   "metadata": {},
   "outputs": [
    {
     "data": {
      "text/plain": [
       "'0.9.0'"
      ]
     },
     "execution_count": 1,
     "metadata": {},
     "output_type": "execute_result"
    }
   ],
   "source": [
    "# All measurements will be taken using the pymeasure library.\n",
    "import pymeasure\n",
    "pymeasure.__version__"
   ]
  },
  {
   "cell_type": "code",
   "execution_count": 2,
   "metadata": {},
   "outputs": [
    {
     "name": "stdout",
     "output_type": "stream",
     "text": [
      "('ASRL5::INSTR',)\n"
     ]
    }
   ],
   "source": [
    "import pyvisa as visa\n",
    "rm = visa.ResourceManager()\n",
    "print(rm.list_resources())"
   ]
  },
  {
   "cell_type": "code",
   "execution_count": 3,
   "metadata": {},
   "outputs": [],
   "source": [
    "from pymeasure.instruments.keithley import Keithley2400 #The Keithley 2401 communicates using the Keithley 2400 library\n",
    "#import pyvisa as visa                      # Provides RS232 support\n",
    "import numpy as np                          # Provides array support. I may not need this library.\n",
    "import pandas as pd                         # Provides data analysis tools\n",
    "import matplotlib.pyplot as plt             # Python graphics package\n",
    "from time import sleep                      # Provides support for generating delays\n",
    "sourcemeter = Keithley2400(\"ASRL5::INSTR\")  # Using RS 232 COM3"
   ]
  },
  {
   "cell_type": "markdown",
   "metadata": {},
   "source": [
    "# Current Measurement Example"
   ]
  },
  {
   "cell_type": "code",
   "execution_count": 19,
   "metadata": {},
   "outputs": [
    {
     "name": "stdout",
     "output_type": "stream",
     "text": [
      "Start\n",
      "   Measured Current: 1.35627 mA, Resistance: 1.79167 kΩ\n",
      "   Measured Current: 1.35631 mA, Resistance: 1.79162 kΩ\n",
      "   Measured Current: 1.35632 mA, Resistance: 1.79161 kΩ\n",
      "   Measured Current: 1.35632 mA, Resistance: 1.79161 kΩ\n",
      "   Measured Current: 1.35634 mA, Resistance: 1.79159 kΩ\n",
      "   Measured Current: 1.35634 mA, Resistance: 1.79158 kΩ\n",
      "   Measured Current: 1.35635 mA, Resistance: 1.79157 kΩ\n",
      "   Measured Current: 1.35637 mA, Resistance: 1.79155 kΩ\n",
      "   Measured Current: 1.35638 mA, Resistance: 1.79153 kΩ\n",
      "   Measured Current: 1.35639 mA, Resistance: 1.79153 kΩ\n",
      "End\n"
     ]
    }
   ],
   "source": [
    "from time import sleep, strftime, time\n",
    "from datetime import datetime\n",
    "\n",
    "vSource = 2.43\n",
    "sourcemeter.reset()                        # Clear the interface\n",
    "sourcemeter.use_front_terminals()          # Use the front-terminals\n",
    "sourcemeter.apply_voltage()                # Sets up to source voltage\n",
    "sourcemeter.source_voltage_range = 10      # Sets the source voltage range limit to 10 V\n",
    "sourcemeter.compliance_current = 10e-3     # Sets the compliance current to 10 mA\n",
    "sourcemeter.source_voltage = vSource       # Sets the source voltage to 2.43 V \n",
    "sourcemeter.enable_source()                # Enables the source output\n",
    "sourcemeter.measure_current()              # Sets up to measure voltage\n",
    "print('Start')\n",
    "for i in range(10):\n",
    "    iR = sourcemeter.current\n",
    "    print(f'   Measured Current: {1000*iR:3.5f} mA, Resistance: {0.001*vSource/iR:3.5f} kΩ')\n",
    "    sleep(1)\n",
    "print('End')\n"
   ]
  },
  {
   "cell_type": "markdown",
   "metadata": {},
   "source": [
    "# Voltage Measurement Example"
   ]
  },
  {
   "cell_type": "code",
   "execution_count": 20,
   "metadata": {},
   "outputs": [
    {
     "name": "stdout",
     "output_type": "stream",
     "text": [
      "Start\n",
      "   Measured Voltage: 1.79157 V, Resistance: 1.79157 kΩ\n",
      "   Measured Voltage: 1.79155 V, Resistance: 1.79155 kΩ\n",
      "   Measured Voltage: 1.79152 V, Resistance: 1.79152 kΩ\n",
      "   Measured Voltage: 1.79155 V, Resistance: 1.79155 kΩ\n",
      "   Measured Voltage: 1.79165 V, Resistance: 1.79165 kΩ\n",
      "   Measured Voltage: 1.79163 V, Resistance: 1.79163 kΩ\n",
      "   Measured Voltage: 1.79157 V, Resistance: 1.79157 kΩ\n",
      "   Measured Voltage: 1.79151 V, Resistance: 1.79151 kΩ\n",
      "   Measured Voltage: 1.79157 V, Resistance: 1.79157 kΩ\n",
      "   Measured Voltage: 1.79144 V, Resistance: 1.79144 kΩ\n",
      "End\n"
     ]
    }
   ],
   "source": [
    "# Constant Discharge Test\n",
    "\n",
    "from time import sleep, strftime, time\n",
    "from datetime import datetime\n",
    "\n",
    "# Setup Meter\n",
    "iSource = 1e-3                             # This is my source current level\n",
    "sourcemeter.reset()                        # Clear the interface\n",
    "sourcemeter.use_front_terminals()          # Use the front-terminals\n",
    "sourcemeter.apply_current()                # Sets up to source current\n",
    "sourcemeter.source_current_range = 20e-3   # Sets the source current range to 20 mA\n",
    "sourcemeter.compliance_voltage = 5         # Sets the compliance voltage to 5 V\n",
    "sourcemeter.source_current = iSource       # Sets the source current to 1 mA\n",
    "sourcemeter.enable_source()                # Enables the source output\n",
    "sourcemeter.measure_voltage()              # Sets up to measure voltage\n",
    "print('Start')\n",
    "for i in range(10):\n",
    "    vR = sourcemeter.voltage\n",
    "    print(f'   Measured Voltage: {vR:3.5f} V, Resistance: {0.001*vR/iSource:3.5f} kΩ')\n",
    "    sleep(1)\n",
    "print('End')"
   ]
  },
  {
   "cell_type": "markdown",
   "metadata": {},
   "source": [
    "# Shutdown Interface"
   ]
  },
  {
   "cell_type": "code",
   "execution_count": 21,
   "metadata": {},
   "outputs": [],
   "source": [
    "sourcemeter.disable_source()    "
   ]
  },
  {
   "cell_type": "code",
   "execution_count": null,
   "metadata": {},
   "outputs": [],
   "source": []
  }
 ],
 "metadata": {
  "kernelspec": {
   "display_name": "Python 3",
   "language": "python",
   "name": "python3"
  },
  "language_info": {
   "codemirror_mode": {
    "name": "ipython",
    "version": 3
   },
   "file_extension": ".py",
   "mimetype": "text/x-python",
   "name": "python",
   "nbconvert_exporter": "python",
   "pygments_lexer": "ipython3",
   "version": "3.8.5"
  }
 },
 "nbformat": 4,
 "nbformat_minor": 4
}
